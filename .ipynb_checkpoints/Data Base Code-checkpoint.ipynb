{
 "cells": [
  {
   "cell_type": "code",
   "execution_count": 8,
   "metadata": {},
   "outputs": [],
   "source": [
    "# Get Packages\n",
    "from database import db_session, engine\n",
    "from models import Location\n",
    "from sqlalchemy import inspect\n",
    "import pandas as pd\n",
    "\n",
    "# Functions that I cannot make work!\n",
    "from sqlalchemy import distinct\n",
    "from sqlalchemy import func\n",
    "from sqlalchemy import or_"
   ]
  },
  {
   "cell_type": "code",
   "execution_count": 5,
   "metadata": {},
   "outputs": [],
   "source": [
    "inspector = inspect(engine)"
   ]
  },
  {
   "cell_type": "code",
   "execution_count": 7,
   "metadata": {},
   "outputs": [
    {
     "name": "stdout",
     "output_type": "stream",
     "text": [
      "['locations']\n"
     ]
    }
   ],
   "source": [
    "# Get table information\n",
    "print(inspector.get_table_names())"
   ]
  },
  {
   "cell_type": "code",
   "execution_count": 15,
   "metadata": {},
   "outputs": [
    {
     "data": {
      "text/plain": [
       "599"
      ]
     },
     "execution_count": 15,
     "metadata": {},
     "output_type": "execute_result"
    }
   ],
   "source": [
    "# Again it double counted!\n",
    "db_session.query(Location.city).count()"
   ]
  },
  {
   "cell_type": "code",
   "execution_count": 11,
   "metadata": {},
   "outputs": [],
   "source": [
    "# Import CSV with data\n",
    "data = pd.read_csv('locations.csv', sep=',', encoding='latin-1')"
   ]
  },
  {
   "cell_type": "code",
   "execution_count": 12,
   "metadata": {},
   "outputs": [
    {
     "data": {
      "text/plain": [
       "1198"
      ]
     },
     "execution_count": 12,
     "metadata": {},
     "output_type": "execute_result"
    }
   ],
   "source": [
    "Location.query.delete()"
   ]
  },
  {
   "cell_type": "code",
   "execution_count": 14,
   "metadata": {},
   "outputs": [],
   "source": [
    "db_session.bulk_insert_mappings(Location,data.to_dict(orient=\"records\"))"
   ]
  },
  {
   "cell_type": "markdown",
   "metadata": {},
   "source": [
    "# Check what the data in the table looks like"
   ]
  },
  {
   "cell_type": "code",
   "execution_count": null,
   "metadata": {},
   "outputs": [],
   "source": [
    "# Verify that we inserted data into the database\n",
    "Aberdeen = Location.query.filter_by(city='Aberdeen').first()\n",
    "Aberdeen.id\n",
    "Aberdeen.airport_code"
   ]
  },
  {
   "cell_type": "code",
   "execution_count": null,
   "metadata": {},
   "outputs": [],
   "source": [
    "# This is my function to get values! \n",
    "# But How do I call this \n",
    "countries = []\n",
    "\n",
    "var = 'lon'\n",
    "\n",
    "for row in db_session.query(Location, Location.airport_code,Location.city).\\\n",
    "    filter(or_(Location.city.ilike(\"%london%\"),Location.airport_code.ilike(\"%london%\"))).\\\n",
    "    all():\n",
    "    result = '(' +row.airport_code+')'+' '+row.city\n",
    "    countries.append(result)\n",
    "    "
   ]
  },
  {
   "cell_type": "code",
   "execution_count": null,
   "metadata": {},
   "outputs": [],
   "source": [
    "# We still have duplicates! \n",
    "countries"
   ]
  },
  {
   "cell_type": "markdown",
   "metadata": {},
   "source": [
    "## Overall comments and learnings\n",
    "- I dont understand why sometimes the query just returns a query with info on the query\n",
    "- And at other times it makes a value\n",
    "- This makes no sense to me!\n",
    "- I should 100% take this code our of the virtual environment as it keeps double inputting the data\n",
    "- When you re-run"
   ]
  },
  {
   "cell_type": "code",
   "execution_count": null,
   "metadata": {},
   "outputs": [],
   "source": []
  }
 ],
 "metadata": {
  "kernelspec": {
   "display_name": "Python 3",
   "language": "python",
   "name": "python3"
  },
  "language_info": {
   "codemirror_mode": {
    "name": "ipython",
    "version": 3
   },
   "file_extension": ".py",
   "mimetype": "text/x-python",
   "name": "python",
   "nbconvert_exporter": "python",
   "pygments_lexer": "ipython3",
   "version": "3.7.1"
  }
 },
 "nbformat": 4,
 "nbformat_minor": 2
}
